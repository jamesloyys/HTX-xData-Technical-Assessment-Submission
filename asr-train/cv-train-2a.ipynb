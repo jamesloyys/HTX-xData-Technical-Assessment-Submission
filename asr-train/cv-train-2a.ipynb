{
 "cells": [
  {
   "cell_type": "code",
   "execution_count": 2,
   "id": "62f0b1e2-9a11-45fb-9947-fbb9d3946654",
   "metadata": {},
   "outputs": [],
   "source": [
    "import os\n",
    "import torch\n",
    "import torchaudio\n",
    "import numpy as np\n",
    "import datasets\n",
    "from evaluate import load\n",
    "from dataclasses import dataclass\n",
    "from typing import Dict, List, Union, Optional\n",
    "from datasets import load_dataset, load_from_disk\n",
    "from transformers import Wav2Vec2Processor, Wav2Vec2ForCTC, Wav2Vec2CTCTokenizer, Wav2Vec2FeatureExtractor, TrainingArguments, Trainer"
   ]
  },
  {
   "cell_type": "code",
   "execution_count": null,
   "id": "21c7029e-631e-45de-82ac-e0371c9b5c9c",
   "metadata": {},
   "outputs": [],
   "source": [
    "DATASET_PATH = \"../data/common_voice\"\n",
    "MODEL_CHECKPOINT = \"facebook/wav2vec2-large-960h\""
   ]
  },
  {
   "cell_type": "markdown",
   "id": "20c7c40a-de58-4209-92b1-cbab2609666c",
   "metadata": {},
   "source": [
    "## Prepare Dataset\n",
    "\n",
    "We load the `cv-valid-train.csv` and do a 70-30 split according to the requirements."
   ]
  },
  {
   "cell_type": "code",
   "execution_count": 3,
   "id": "fc500f80-d007-47dc-a92d-c6e58c33df4a",
   "metadata": {},
   "outputs": [],
   "source": [
    "dataset = load_dataset(\n",
    "    'csv', \n",
    "    data_files = os.path.join(\n",
    "        DATASET_PATH, \n",
    "        'cv-valid-train.csv'\n",
    "    ), \n",
    "    split='train'\n",
    ")\n",
    "\n",
    "splits = dataset.train_test_split(test_size=0.3, seed=42)\n",
    "\n",
    "train_dataset, test_dataset = splits['train'], splits['test']"
   ]
  },
  {
   "cell_type": "markdown",
   "id": "53e7078d-b41c-4f7f-bf57-5b7100ddbea5",
   "metadata": {},
   "source": [
    "## Exploratory Data Analysis\n",
    "\n",
    "Let's start by taking a look at the labels."
   ]
  },
  {
   "cell_type": "code",
   "execution_count": 4,
   "id": "6fac0b38-3973-44d8-9862-95c4465918bc",
   "metadata": {},
   "outputs": [
    {
     "data": {
      "text/plain": [
       "{'filename': 'cv-valid-train/sample-018873.mp3',\n",
       " 'text': \"it seemed as if what the old king had called beginner's luck were no longer functioning\",\n",
       " 'up_votes': 3,\n",
       " 'down_votes': 0,\n",
       " 'age': 'fifties',\n",
       " 'gender': 'female',\n",
       " 'accent': 'england',\n",
       " 'duration': None}"
      ]
     },
     "execution_count": 4,
     "metadata": {},
     "output_type": "execute_result"
    }
   ],
   "source": [
    "train_dataset[0]"
   ]
  },
  {
   "cell_type": "markdown",
   "id": "39168ac6-15c1-4199-8ff0-e5f6f0c6369d",
   "metadata": {},
   "source": [
    "It looks like the 'text' column contains the ground truth transcription, which appears to be in all lowercase. Let's check if all the labels in the dataset are consistently lowercase."
   ]
  },
  {
   "cell_type": "code",
   "execution_count": null,
   "id": "b4de5d27-c82d-4b3c-805b-ab63a9c864a0",
   "metadata": {},
   "outputs": [
    {
     "name": "stdout",
     "output_type": "stream",
     "text": [
      "[' ', \"'\", 'a', 'b', 'c', 'd', 'e', 'f', 'g', 'h', 'i', 'j', 'k', 'l', 'm', 'n', 'o', 'p', 'q', 'r', 's', 't', 'u', 'v', 'w', 'x', 'y', 'z']\n",
      "Total unique characters: 28\n"
     ]
    }
   ],
   "source": [
    "all_chars = set()\n",
    "for txt in dataset['text']:\n",
    "    all_chars.update(txt) \n",
    "\n",
    "# Convert to a sorted list for readability\n",
    "unique_chars = sorted(all_chars)\n",
    "print(unique_chars)\n",
    "print(f\"Total unique characters: {len(unique_chars)}\")\n"
   ]
  },
  {
   "cell_type": "markdown",
   "id": "3ffc6c2e-7051-4273-9c52-4541e1b06805",
   "metadata": {},
   "source": [
    "We can see that the labels in the Common Voice datset consists of the a-z alphabets in lowercase, along with a space \" \" and an apostrophe \"'\" character.\n",
    "\n",
    "Next, we need to check if the Wav2Vec2 tokenizer uses the same set of characters as our dataset."
   ]
  },
  {
   "cell_type": "code",
   "execution_count": 6,
   "id": "e8a81793-bccd-4bde-b564-a6c6cdaea8db",
   "metadata": {},
   "outputs": [
    {
     "name": "stdout",
     "output_type": "stream",
     "text": [
      "Wav2Vec2CTCTokenizer Vocab: [\"'\", '</s>', '<pad>', '<s>', '<unk>', 'A', 'B', 'C', 'D', 'E', 'F', 'G', 'H', 'I', 'J', 'K', 'L', 'M', 'N', 'O', 'P', 'Q', 'R', 'S', 'T', 'U', 'V', 'W', 'X', 'Y', 'Z', '|']\n"
     ]
    }
   ],
   "source": [
    "tokenizer = Wav2Vec2CTCTokenizer.from_pretrained(MODEL_CHECKPOINT)\n",
    "print(f\"Wav2Vec2CTCTokenizer Vocab: {sorted(list(tokenizer.get_vocab().keys()))}\")"
   ]
  },
  {
   "cell_type": "markdown",
   "id": "019a2b66-6518-4275-8a43-7ef6911b31dd",
   "metadata": {},
   "source": [
    "*THIS IS A PROBLEM* - our dataset labels consist of lowecase alphabets, while the tokenizer's vocab consist of uppercase alphabets -> We need to convert the labels to upper case during preprocessing.\n",
    "\n",
    "Let's confirm our hypothesis."
   ]
  },
  {
   "cell_type": "code",
   "execution_count": 7,
   "id": "38eb474c-5ece-4adb-8bc3-7eed86daaaf5",
   "metadata": {},
   "outputs": [
    {
     "name": "stdout",
     "output_type": "stream",
     "text": [
      "HTX\n",
      "<unk>\n"
     ]
    }
   ],
   "source": [
    "print(tokenizer.decode(tokenizer.encode(\"HTX\")))\n",
    "\n",
    "print(tokenizer.decode(tokenizer.encode(\"htx\")))"
   ]
  },
  {
   "cell_type": "markdown",
   "id": "a6cc001e-7548-4bdc-9f1d-84d5cd124c34",
   "metadata": {},
   "source": [
    "As expected, the Wav2Vec2 Tokenizer treats lowercase alphabet characters as unknown tokens and maps them to the `<unk>` token."
   ]
  },
  {
   "cell_type": "markdown",
   "id": "5024e5eb-0555-4556-849a-fb9f5056ca79",
   "metadata": {},
   "source": [
    "## Preprocessing\n",
    "\n",
    "Next, let's preprocess the dataset. We need to do a few things:\n",
    "\n",
    "* Load the audio files using TorchAudio\n",
    "* Resample to 16kHz if necessary\n",
    "* Convert to mono if necessary\n",
    "* Extract features from the waveform using the Wav2Vec2Processor\n",
    "* Convert the labels to uppercase\n",
    "* Tokenize the labels using the Wav2Vec2Processor\n",
    "\n",
    "We can use the `.map()` method to apply these transformations to the dataset."
   ]
  },
  {
   "cell_type": "code",
   "execution_count": null,
   "id": "1ff20f11-6e37-4094-882a-5b6d549921b2",
   "metadata": {},
   "outputs": [
    {
     "name": "stdout",
     "output_type": "stream",
     "text": [
      "Loading preprocessed data...\n"
     ]
    },
    {
     "data": {
      "application/vnd.jupyter.widget-view+json": {
       "model_id": "ac13596d1707429fb58d1b0810f26cf1",
       "version_major": 2,
       "version_minor": 0
      },
      "text/plain": [
       "Loading dataset from disk:   0%|          | 0/79 [00:00<?, ?it/s]"
      ]
     },
     "metadata": {},
     "output_type": "display_data"
    },
    {
     "data": {
      "application/vnd.jupyter.widget-view+json": {
       "model_id": "70c223b2cfde4beda849f6d41d324234",
       "version_major": 2,
       "version_minor": 0
      },
      "text/plain": [
       "Loading dataset from disk:   0%|          | 0/34 [00:00<?, ?it/s]"
      ]
     },
     "metadata": {},
     "output_type": "display_data"
    }
   ],
   "source": [
    "processor = Wav2Vec2Processor.from_pretrained(MODEL_CHECKPOINT)\n",
    "\n",
    "def prepare_dataset(batch):\n",
    "    # Load audio file\n",
    "    audio_base_path = os.path.join(DATASET_PATH, \"cv-valid-train\")\n",
    "    audio_path = os.path.join(audio_base_path, batch[\"filename\"])\n",
    "    waveform, sampling_rate = torchaudio.load(audio_path)\n",
    "\n",
    "    # Convert to mono if stereo\n",
    "    if waveform.shape[0] > 1:\n",
    "        waveform = torch.mean(waveform, dim=0, keepdim=True)\n",
    "\n",
    "    # Resample to 16kHz if needed\n",
    "    if sampling_rate != 16000:\n",
    "        resampler = torchaudio.transforms.Resample(sampling_rate, 16000)\n",
    "        waveform = resampler(waveform)\n",
    "\n",
    "    # Extract features\n",
    "    batch[\"input_values\"] = processor(\n",
    "        waveform.squeeze().numpy(),\n",
    "        sampling_rate=16000\n",
    "    ).input_values[0]\n",
    "\n",
    "    # Get length of input for excluding long samples later\n",
    "    batch[\"input_len\"] = len(batch[\"input_values\"])\n",
    "    \n",
    "    # Tokenize the uppercase text labels\n",
    "    text = batch[\"text\"].upper()\n",
    "    batch[\"labels\"] = processor.tokenizer(text).input_ids\n",
    "    return batch\n",
    "\n",
    "# Check if preprocessed data exists\n",
    "if os.path.exists(\"./preprocessed_data/truncated/train\"):\n",
    "\n",
    "    print(\"Loading preprocessed data...\")\n",
    "    train_dataset = load_from_disk(\"./preprocessed_data/truncated/train\")\n",
    "    test_dataset = load_from_disk(\"./preprocessed_data/truncated/test\")\n",
    "\n",
    "else: # Apply preprocessing\n",
    "\n",
    "    print(\"Preprocessing data...\")\n",
    "    \n",
    "    train_dataset = train_dataset.map(\n",
    "        prepare_dataset,\n",
    "        remove_columns=train_dataset.column_names,\n",
    "        num_proc=16\n",
    "      )\n",
    "\n",
    "    test_dataset = test_dataset.map(\n",
    "        prepare_dataset,\n",
    "        remove_columns=test_dataset.column_names,\n",
    "        num_proc=16\n",
    "    )\n",
    "\n",
    "    # Save the preprocessed data to disk\n",
    "    train_dataset.save_to_disk(\"./preprocessed_data/truncated/train\")\n",
    "    test_dataset.save_to_disk(\"./preprocessed_data/truncated/test\")"
   ]
  },
  {
   "cell_type": "markdown",
   "id": "66077078-50dd-4cfb-bfe2-d9602658324c",
   "metadata": {},
   "source": [
    "Next, due to GPU memory constraints, I had to remove any samples that are more than 5 seconds long. Initially, when I trained with the full dataset, the training process would crash due to out-of-memory errors, even with an 80GB A100. Therefore, I have to remove any samples that are more than 5 seconds long."
   ]
  },
  {
   "cell_type": "code",
   "execution_count": 10,
   "id": "0b777ab7-f81d-421d-9366-9d34a556fd8e",
   "metadata": {},
   "outputs": [
    {
     "name": "stdout",
     "output_type": "stream",
     "text": [
      "Length of train dataset before removing long audio: 137043\n",
      "Length of test dataset before removing long audio: 58733\n"
     ]
    }
   ],
   "source": [
    "print(f\"Length of train dataset before removing long audio: {len(train_dataset)}\")\n",
    "print(f\"Length of test dataset before removing long audio: {len(test_dataset)}\")"
   ]
  },
  {
   "cell_type": "code",
   "execution_count": null,
   "id": "3a29cdf0-adaa-419f-8c89-b466eb76f470",
   "metadata": {},
   "outputs": [],
   "source": [
    "max_len = 5 * 16000 # 5 seconds, 16000 is the sampling rate\n",
    "\n",
    "train_dataset = train_dataset.filter(lambda x: x < max_len, input_columns=[\"input_len\"])\n",
    "test_dataset = test_dataset.filter(lambda x: x < max_len, input_columns=[\"input_len\"])"
   ]
  },
  {
   "cell_type": "code",
   "execution_count": 12,
   "id": "53b9b892-8b7d-4e90-8fbf-d9670b85214a",
   "metadata": {},
   "outputs": [
    {
     "name": "stdout",
     "output_type": "stream",
     "text": [
      "Length of train dataset after removing long audio: 93598\n",
      "Length of test dataset after removing long audio: 40049\n"
     ]
    }
   ],
   "source": [
    "print(f\"Length of train dataset after removing long audio: {len(train_dataset)}\")\n",
    "print(f\"Length of test dataset after removing long audio: {len(test_dataset)}\")"
   ]
  },
  {
   "cell_type": "markdown",
   "id": "fd2f9c69-af41-4ff9-9fec-b2a876c9c073",
   "metadata": {},
   "source": [
    "As we can see, its not ideal as we are losing quite a bit of training data, but unfortunately we have to do this due to GPU memory constraints."
   ]
  },
  {
   "cell_type": "markdown",
   "id": "d3de154f-624a-4ff1-9c47-7c44b9b55270",
   "metadata": {},
   "source": [
    "## Data Collator\n",
    "\n",
    "Next, we need a DataCollator class to handle batched training inputs to the model. The data collator needs to pad the input sequences to the length of the longest audio in the batch using the Wav2Vec2Processor. It also needs to create an attention mask so that the model ignores the padded positions during training. We will use -100 as the padding value because PyTorch's CTC loss function ignores -100 labels.\n",
    "\n",
    "We will use the DataCollatorCTCWithPadding class from the transformers repository (link below).\n",
    "\n",
    "https://github.com/huggingface/transformers/blob/9a06b6b11bdfc42eea08fa91d0c737d1863c99e3/examples/research_projects/wav2vec2/run_asr.py#L81"
   ]
  },
  {
   "cell_type": "code",
   "execution_count": null,
   "id": "7f48820d-c4b7-4bde-88ca-166ef909ccbb",
   "metadata": {},
   "outputs": [],
   "source": [
    "@dataclass\n",
    "class DataCollatorCTCWithPadding:\n",
    "    \"\"\"\n",
    "    Data collator that will dynamically pad the inputs received.\n",
    "    Args:\n",
    "        processor (:class:`~transformers.Wav2Vec2Processor`)\n",
    "            The processor used for proccessing the data.\n",
    "        padding (:obj:`bool`, :obj:`str` or :class:`~transformers.tokenization_utils_base.PaddingStrategy`, `optional`, defaults to :obj:`True`):\n",
    "            Select a strategy to pad the returned sequences (according to the model's padding side and padding index)\n",
    "            among:\n",
    "            * :obj:`True` or :obj:`'longest'`: Pad to the longest sequence in the batch (or no padding if only a single\n",
    "              sequence if provided).\n",
    "            * :obj:`'max_length'`: Pad to a maximum length specified with the argument :obj:`max_length` or to the\n",
    "              maximum acceptable input length for the model if that argument is not provided.\n",
    "            * :obj:`False` or :obj:`'do_not_pad'` (default): No padding (i.e., can output a batch with sequences of\n",
    "              different lengths).\n",
    "        max_length (:obj:`int`, `optional`):\n",
    "            Maximum length of the ``input_values`` of the returned list and optionally padding length (see above).\n",
    "        max_length_labels (:obj:`int`, `optional`):\n",
    "            Maximum length of the ``labels`` returned list and optionally padding length (see above).\n",
    "        pad_to_multiple_of (:obj:`int`, `optional`):\n",
    "            If set will pad the sequence to a multiple of the provided value.\n",
    "            This is especially useful to enable the use of Tensor Cores on NVIDIA hardware with compute capability >=\n",
    "            7.5 (Volta).\n",
    "    \"\"\"\n",
    "\n",
    "    processor: Wav2Vec2Processor\n",
    "    padding: Union[bool, str] = True\n",
    "    max_length: Optional[int] = None\n",
    "    max_length_labels: Optional[int] = None\n",
    "    pad_to_multiple_of: Optional[int] = None\n",
    "    pad_to_multiple_of_labels: Optional[int] = None\n",
    "\n",
    "    def __call__(self, features: List[Dict[str, Union[List[int], torch.Tensor]]]) -> Dict[str, torch.Tensor]:\n",
    "        # split inputs and labels since they have to be of different lenghts and need\n",
    "        # different padding methods\n",
    "        input_features = [{\"input_values\": feature[\"input_values\"]} for feature in features]\n",
    "        label_features = [{\"input_ids\": feature[\"labels\"]} for feature in features]\n",
    "\n",
    "        batch = self.processor.pad(\n",
    "            input_features,\n",
    "            padding=self.padding,\n",
    "            max_length=self.max_length,\n",
    "            pad_to_multiple_of=self.pad_to_multiple_of,\n",
    "            return_tensors=\"pt\",\n",
    "        )\n",
    "        with self.processor.as_target_processor():\n",
    "            labels_batch = self.processor.pad(\n",
    "                label_features,\n",
    "                padding=self.padding,\n",
    "                max_length=self.max_length_labels,\n",
    "                pad_to_multiple_of=self.pad_to_multiple_of_labels,\n",
    "                return_tensors=\"pt\",\n",
    "            )\n",
    "\n",
    "        # replace padding with -100 to ignore loss correctly\n",
    "        labels = labels_batch[\"input_ids\"].masked_fill(labels_batch.attention_mask.ne(1), -100)\n",
    "\n",
    "        batch[\"labels\"] = labels\n",
    "\n",
    "        return batch"
   ]
  },
  {
   "cell_type": "code",
   "execution_count": null,
   "id": "dd328565-16ac-4d22-bd0a-b209ff7f9b37",
   "metadata": {},
   "outputs": [],
   "source": [
    "data_collator = DataCollatorCTCWithPadding(\n",
    "    processor=processor, \n",
    "    padding=True\n",
    ")"
   ]
  },
  {
   "cell_type": "markdown",
   "id": "11ee21c5-3054-407c-94da-5b6bf8633435",
   "metadata": {},
   "source": [
    "## Evaluation Metric\n",
    "\n",
    "Next, we also need an evaluation metric to measure the performance of our ASR model, in addition to the CTC loss. We will use the Word Error Rate (WER) metric, which measures the percentage of words that are incorrect in the transcription. WER is a common metric used in ASR tasks.\n",
    "\n",
    "Again, we will use the `compute_metrics` function from the transformers repository to calculate the WER metric.\n",
    "\n",
    "https://github.com/huggingface/transformers/blob/9a06b6b11bdfc42eea08fa91d0c737d1863c99e3/examples/research_projects/wav2vec2/run_asr.py#L250"
   ]
  },
  {
   "cell_type": "code",
   "execution_count": null,
   "id": "e6f19846-86d8-4841-9e2f-89955fc4e278",
   "metadata": {},
   "outputs": [],
   "source": [
    "def compute_metrics(pred):\n",
    "    pred_logits = pred.predictions\n",
    "    pred_ids = np.argmax(pred_logits, axis=-1)\n",
    "\n",
    "    pred.label_ids[pred.label_ids == -100] = processor.tokenizer.pad_token_id\n",
    "\n",
    "    pred_str = processor.batch_decode(pred_ids)\n",
    "    # we do not want to group tokens when computing the metrics\n",
    "    label_str = processor.batch_decode(pred.label_ids, group_tokens=False)\n",
    "\n",
    "    wer_metric = load(\"wer\")\n",
    "    wer_score = wer_metric.compute(predictions=pred_str, references=label_str)\n",
    "\n",
    "    return {\"wer\": wer_score}"
   ]
  },
  {
   "cell_type": "markdown",
   "id": "2edb57bc-6843-4ab2-b30c-790ef85673ae",
   "metadata": {},
   "source": [
    "## Training"
   ]
  },
  {
   "cell_type": "markdown",
   "id": "3ec03edb-ea97-4915-9d5f-592fd20d2e75",
   "metadata": {},
   "source": [
    "### Debugging Steps\n",
    "\n",
    "Note: Initially, I faced an issue of the model consistently returning 0 training loss at each step - with 0 loss, the model does not learn and performs poorly on the validation set. \n",
    "\n",
    "The following cells contain my debugging steps, and how I eventually fixed the issue.\n",
    "\n",
    "The issue arises when loading the model from the `facebook/wav2vec2-large-960h` checkpoint:"
   ]
  },
  {
   "cell_type": "code",
   "execution_count": 9,
   "id": "0b07195d-2423-4064-b7f5-9dc3668d1193",
   "metadata": {},
   "outputs": [
    {
     "name": "stderr",
     "output_type": "stream",
     "text": [
      "Some weights of Wav2Vec2ForCTC were not initialized from the model checkpoint at facebook/wav2vec2-large-960h and are newly initialized: ['wav2vec2.masked_spec_embed']\n",
      "You should probably TRAIN this model on a down-stream task to be able to use it for predictions and inference.\n"
     ]
    }
   ],
   "source": [
    "model = Wav2Vec2ForCTC.from_pretrained('facebook/wav2vec2-large-960h')"
   ]
  },
  {
   "cell_type": "markdown",
   "id": "40ed4422-a4eb-4443-88dd-c472e7758b15",
   "metadata": {},
   "source": [
    "We see the following warning:\n",
    "\n",
    "`Some weights of Wav2Vec2ForCTC were not initialized from the model checkpoint at facebook/wav2vec2-large-960h and are newly initialized: ['wav2vec2.masked_spec_embed']\n",
    "You should probably TRAIN this model on a down-stream task to be able to use it for predictions and inference.`\n",
    "\n",
    "Let's do a check to see if there are any NaNs in the weights."
   ]
  },
  {
   "cell_type": "code",
   "execution_count": 10,
   "id": "71a74ee2-3576-470e-aa71-0f0aafcc30c1",
   "metadata": {},
   "outputs": [
    {
     "name": "stdout",
     "output_type": "stream",
     "text": [
      "   NaN found in: wav2vec2.masked_spec_embed\n"
     ]
    }
   ],
   "source": [
    "for name, param in model.named_parameters():\n",
    "    if torch.isnan(param).any():\n",
    "        print(f\"   NaN found in: {name}\")"
   ]
  },
  {
   "cell_type": "markdown",
   "id": "67eda394-a932-4abe-90c0-ce287550e607",
   "metadata": {},
   "source": [
    "This is a problem as `wav2vec2.masked_spec_embed` is NaN, which will result in NaN outputs during the forward pass.\n",
    "\n",
    "Doing a google search on this issue shows that the issue is unresolved:\n",
    "\n",
    "* https://github.com/pytorch/pytorch/issues/93464\n",
    "* https://github.com/huggingface/transformers/issues/33995\n",
    "* https://discuss.huggingface.co/t/some-weights-of-wav2vec2forctc-were-not-initialized-from-the-model-checkpoint-at-facebook-wav2vec2-base-960h-and-are-newly-initialized/25184\n",
    "\n",
    "Checking the original paper (https://arxiv.org/pdf/2006.11477), it seems that this is related to the masking process during the self-supervised training phase: \n",
    "\n",
    "> We mask a proportion of the feature encoder outputs, or time steps before feeding them to the context\n",
    "network and replace them with a trained feature vector shared between all masked time steps\n",
    "\n",
    "It appears that masking is not strictly necessary for finetuning, and fortunately, the `Wav2Vec2ForCTC` class provides a way to disable it by setting `mask_time_prob` to 0.\n",
    "\n",
    "https://huggingface.co/docs/transformers/en/model_doc/wav2vec2#transformers.Wav2Vec2Config.mask_time_prob"
   ]
  },
  {
   "cell_type": "markdown",
   "id": "98ec3688-c16f-4b1e-888e-f172e9942ff9",
   "metadata": {},
   "source": [
    "## Rest of Training"
   ]
  },
  {
   "cell_type": "markdown",
   "id": "06bf46fc-cfce-4f5d-9b35-3fc9d1fab528",
   "metadata": {},
   "source": [
    "We'll initialize our model and set `mask_time_prob` to 0 as mentioned above. We will also freeze the feature extractor as we do not need to retrain them for finetuning tasks."
   ]
  },
  {
   "cell_type": "code",
   "execution_count": 19,
   "id": "69084b6a-ca2b-451a-9f8a-1db7caca7f50",
   "metadata": {},
   "outputs": [
    {
     "name": "stdout",
     "output_type": "stream",
     "text": [
      "Model loaded: facebook/wav2vec2-large-960h\n"
     ]
    },
    {
     "name": "stderr",
     "output_type": "stream",
     "text": [
      "/usr/local/lib/python3.12/dist-packages/transformers/models/wav2vec2/modeling_wav2vec2.py:1818: FutureWarning: The method `freeze_feature_extractor` is deprecated and will be removed in Transformers v5. Please use the equivalent `freeze_feature_encoder` method instead.\n",
      "  warnings.warn(\n"
     ]
    }
   ],
   "source": [
    "model = Wav2Vec2ForCTC.from_pretrained(\n",
    "    MODEL_CHECKPOINT,\n",
    "    ctc_loss_reduction=\"mean\",\n",
    "    mask_time_prob=0.0,  # Disable masked_spec_embed\n",
    "    pad_token_id=processor.tokenizer.pad_token_id,\n",
    "    vocab_size=len(processor.tokenizer)\n",
    ")\n",
    "\n",
    "# Freeze feature extractor\n",
    "model.freeze_feature_extractor()\n",
    "\n",
    "print(f\"Model loaded: {MODEL_CHECKPOINT}\")"
   ]
  },
  {
   "cell_type": "markdown",
   "id": "fc81b8b3-abf0-4f1e-b4e8-e1e50fd34412",
   "metadata": {},
   "source": [
    "Due to time constraints, I could not experiment with different training hyperparameters such as learning rates or strategies to prevent overfitting. Instead, I will train the model for 3 epochs and use the validation loss and WER as a guide to see if we are overfitting the model.\n",
    "\n",
    "As I'm using a 80GB A100 (from RunPod.io), we can increase the batch size to 512. \n",
    "\n",
    "We'll keep the eval steps to 100 to avoid evaluating too frequently which is computationally expensive. \n",
    "\n",
    "It takes around 4 hours to train the model for 3 epochs, including the time taken for validation."
   ]
  },
  {
   "cell_type": "code",
   "execution_count": null,
   "id": "04c858a5-88df-4a7b-9db0-922d6a39bcde",
   "metadata": {},
   "outputs": [],
   "source": [
    "training_args = TrainingArguments(\n",
    "    output_dir=\"./wav2vec2-finetuned-common-voice\",\n",
    "    group_by_length=False,\n",
    "    per_device_train_batch_size=512,\n",
    "    per_device_eval_batch_size=512,\n",
    "    eval_strategy=\"steps\",\n",
    "    num_train_epochs=3,\n",
    "    fp16=True,\n",
    "    gradient_checkpointing=True,\n",
    "    save_steps=100,\n",
    "    eval_steps=100,\n",
    "    logging_steps=100,\n",
    "    learning_rate=3e-4,\n",
    "    warmup_steps=50,\n",
    "    save_total_limit=2,\n",
    "    load_best_model_at_end=True,\n",
    "    metric_for_best_model=\"wer\",\n",
    "    greater_is_better=False,\n",
    ")"
   ]
  },
  {
   "cell_type": "code",
   "execution_count": null,
   "id": "ba7dae41-5ea3-432e-8538-2df50606c0db",
   "metadata": {},
   "outputs": [
    {
     "name": "stderr",
     "output_type": "stream",
     "text": [
      "/tmp/ipykernel_13775/3539139704.py:1: FutureWarning: `tokenizer` is deprecated and will be removed in version 5.0.0 for `Trainer.__init__`. Use `processing_class` instead.\n",
      "  trainer = Trainer(\n"
     ]
    }
   ],
   "source": [
    "trainer = Trainer(\n",
    "    model=model,\n",
    "    data_collator=data_collator,\n",
    "    args=training_args,\n",
    "    compute_metrics=compute_metrics,\n",
    "    train_dataset=train_dataset,\n",
    "    eval_dataset=test_dataset,\n",
    "    tokenizer=processor.feature_extractor,\n",
    ")"
   ]
  },
  {
   "cell_type": "code",
   "execution_count": 25,
   "id": "992a73ae-6141-4fda-a6fd-2717be71e25c",
   "metadata": {},
   "outputs": [
    {
     "name": "stdout",
     "output_type": "stream",
     "text": [
      "Starting training...\n",
      "Training samples: 93598\n",
      "Evaluation samples: 40049\n",
      "Training epochs: 3\n"
     ]
    },
    {
     "name": "stderr",
     "output_type": "stream",
     "text": [
      "/usr/local/lib/python3.12/dist-packages/transformers/models/wav2vec2/processing_wav2vec2.py:180: UserWarning: `as_target_processor` is deprecated and will be removed in v5 of Transformers. You can process your labels by using the argument `text` of the regular `__call__` method (either in the same call as your audio inputs, or in a separate call.\n",
      "  warnings.warn(\n",
      "/usr/local/lib/python3.12/dist-packages/torch/utils/checkpoint.py:85: UserWarning: None of the inputs have requires_grad=True. Gradients will be None\n",
      "  warnings.warn(\n"
     ]
    },
    {
     "data": {
      "text/html": [
       "\n",
       "    <div>\n",
       "      \n",
       "      <progress value='549' max='549' style='width:300px; height:20px; vertical-align: middle;'></progress>\n",
       "      [549/549 3:13:13, Epoch 3/3]\n",
       "    </div>\n",
       "    <table border=\"1\" class=\"dataframe\">\n",
       "  <thead>\n",
       " <tr style=\"text-align: left;\">\n",
       "      <th>Step</th>\n",
       "      <th>Training Loss</th>\n",
       "      <th>Validation Loss</th>\n",
       "      <th>Wer</th>\n",
       "    </tr>\n",
       "  </thead>\n",
       "  <tbody>\n",
       "    <tr>\n",
       "      <td>100</td>\n",
       "      <td>0.311100</td>\n",
       "      <td>0.223965</td>\n",
       "      <td>0.099315</td>\n",
       "    </tr>\n",
       "    <tr>\n",
       "      <td>200</td>\n",
       "      <td>0.281000</td>\n",
       "      <td>0.198762</td>\n",
       "      <td>0.089941</td>\n",
       "    </tr>\n",
       "    <tr>\n",
       "      <td>300</td>\n",
       "      <td>0.206000</td>\n",
       "      <td>0.153783</td>\n",
       "      <td>0.071368</td>\n",
       "    </tr>\n",
       "    <tr>\n",
       "      <td>400</td>\n",
       "      <td>0.165300</td>\n",
       "      <td>0.130851</td>\n",
       "      <td>0.062274</td>\n",
       "    </tr>\n",
       "    <tr>\n",
       "      <td>500</td>\n",
       "      <td>0.133400</td>\n",
       "      <td>0.113417</td>\n",
       "      <td>0.053547</td>\n",
       "    </tr>\n",
       "  </tbody>\n",
       "</table><p>"
      ],
      "text/plain": [
       "<IPython.core.display.HTML object>"
      ]
     },
     "metadata": {},
     "output_type": "display_data"
    },
    {
     "name": "stderr",
     "output_type": "stream",
     "text": [
      "/usr/local/lib/python3.12/dist-packages/transformers/models/wav2vec2/processing_wav2vec2.py:180: UserWarning: `as_target_processor` is deprecated and will be removed in v5 of Transformers. You can process your labels by using the argument `text` of the regular `__call__` method (either in the same call as your audio inputs, or in a separate call.\n",
      "  warnings.warn(\n",
      "/usr/local/lib/python3.12/dist-packages/torch/utils/checkpoint.py:85: UserWarning: None of the inputs have requires_grad=True. Gradients will be None\n",
      "  warnings.warn(\n",
      "/usr/local/lib/python3.12/dist-packages/transformers/models/wav2vec2/processing_wav2vec2.py:180: UserWarning: `as_target_processor` is deprecated and will be removed in v5 of Transformers. You can process your labels by using the argument `text` of the regular `__call__` method (either in the same call as your audio inputs, or in a separate call.\n",
      "  warnings.warn(\n",
      "/usr/local/lib/python3.12/dist-packages/torch/utils/checkpoint.py:85: UserWarning: None of the inputs have requires_grad=True. Gradients will be None\n",
      "  warnings.warn(\n",
      "/usr/local/lib/python3.12/dist-packages/transformers/models/wav2vec2/processing_wav2vec2.py:180: UserWarning: `as_target_processor` is deprecated and will be removed in v5 of Transformers. You can process your labels by using the argument `text` of the regular `__call__` method (either in the same call as your audio inputs, or in a separate call.\n",
      "  warnings.warn(\n",
      "/usr/local/lib/python3.12/dist-packages/torch/utils/checkpoint.py:85: UserWarning: None of the inputs have requires_grad=True. Gradients will be None\n",
      "  warnings.warn(\n",
      "/usr/local/lib/python3.12/dist-packages/transformers/models/wav2vec2/processing_wav2vec2.py:180: UserWarning: `as_target_processor` is deprecated and will be removed in v5 of Transformers. You can process your labels by using the argument `text` of the regular `__call__` method (either in the same call as your audio inputs, or in a separate call.\n",
      "  warnings.warn(\n",
      "/usr/local/lib/python3.12/dist-packages/torch/utils/checkpoint.py:85: UserWarning: None of the inputs have requires_grad=True. Gradients will be None\n",
      "  warnings.warn(\n",
      "/usr/local/lib/python3.12/dist-packages/transformers/models/wav2vec2/processing_wav2vec2.py:180: UserWarning: `as_target_processor` is deprecated and will be removed in v5 of Transformers. You can process your labels by using the argument `text` of the regular `__call__` method (either in the same call as your audio inputs, or in a separate call.\n",
      "  warnings.warn(\n",
      "/usr/local/lib/python3.12/dist-packages/torch/utils/checkpoint.py:85: UserWarning: None of the inputs have requires_grad=True. Gradients will be None\n",
      "  warnings.warn(\n"
     ]
    },
    {
     "data": {
      "text/plain": [
       "TrainOutput(global_step=549, training_loss=0.2093492014594851, metrics={'train_runtime': 11616.5878, 'train_samples_per_second': 24.172, 'train_steps_per_second': 0.047, 'total_flos': 4.241380003405539e+19, 'train_loss': 0.2093492014594851, 'epoch': 3.0})"
      ]
     },
     "execution_count": 25,
     "metadata": {},
     "output_type": "execute_result"
    }
   ],
   "source": [
    "print(\"Starting training...\")\n",
    "print(f\"Training samples: {len(train_dataset)}\")\n",
    "print(f\"Evaluation samples: {len(test_dataset)}\")\n",
    "print(f\"Training epochs: {training_args.num_train_epochs}\")\n",
    "\n",
    "# Start training\n",
    "trainer.train()"
   ]
  },
  {
   "cell_type": "markdown",
   "id": "66cb4537-a37f-4b3d-891b-8cf69d235e45",
   "metadata": {},
   "source": [
    "Next, let's visualize the training and validation loss."
   ]
  },
  {
   "cell_type": "code",
   "execution_count": 59,
   "id": "6e7b45e1-aed2-4047-9ceb-9dfa3721e6d7",
   "metadata": {},
   "outputs": [
    {
     "data": {
      "image/png": "[encoded data removed]",
      "text/plain": [
       "<Figure size 800x500 with 1 Axes>"
      ]
     },
     "metadata": {},
     "output_type": "display_data"
    }
   ],
   "source": [
    "import matplotlib.pyplot as plt\n",
    "\n",
    "logs = trainer.state.log_history\n",
    "\n",
    "train_loss = []\n",
    "eval_loss = []\n",
    "eval_wer = []\n",
    "steps = []\n",
    "\n",
    "for entry in logs:\n",
    "    if \"loss\" in entry and \"learning_rate\" in entry:\n",
    "        train_loss.append(entry[\"loss\"])\n",
    "        steps.append(entry[\"step\"])\n",
    "    else:\n",
    "        if \"eval_loss\" in entry:\n",
    "            eval_loss.append(entry[\"eval_loss\"])\n",
    "        if \"eval_wer\" in entry:\n",
    "            eval_wer.append(entry[\"eval_wer\"])\n",
    "\n",
    "eval_steps = [entry[\"step\"] for entry in logs if \"eval_loss\" in entry]\n",
    "\n",
    "plt.figure(figsize=(8,5))\n",
    "plt.plot(steps, train_loss, label=\"Training loss\", marker='o')\n",
    "plt.plot(eval_steps, eval_loss, label=\"Validation loss\", marker='o')\n",
    "plt.xlabel(\"Step\")\n",
    "plt.ylabel(\"Loss\")\n",
    "plt.title(\"Training vs Validation Loss\")\n",
    "plt.legend()\n",
    "plt.grid(True)\n",
    "plt.show()"
   ]
  },
  {
   "cell_type": "markdown",
   "id": "2e78d615-f084-4e1f-b5f8-015c9dcf35a0",
   "metadata": {},
   "source": [
    "As we can see from the chart above, both the training and validation loss monotonically decreases with the number of steps. Evidently, the model has not overfitted to the training data as thge validation loss has not plateaued and in fact, it might be slightly underfitted. We can probably increase the number of training steps to further improve the performance of the model."
   ]
  },
  {
   "cell_type": "code",
   "execution_count": 63,
   "id": "d55a5e77-a26d-4cc4-851b-1793833f2bfb",
   "metadata": {},
   "outputs": [
    {
     "data": {
      "image/png": "[encoded data removed]",
      "text/plain": [
       "<Figure size 800x500 with 1 Axes>"
      ]
     },
     "metadata": {},
     "output_type": "display_data"
    }
   ],
   "source": [
    "plt.figure(figsize=(8,5))\n",
    "plt.plot(steps, eval_wer, label=\"Validation WER\", marker='o', color='green')\n",
    "plt.xlabel(\"Step\")\n",
    "plt.ylabel(\"WER\")\n",
    "plt.title(\"Validation WER\")\n",
    "plt.legend()\n",
    "plt.grid(True)\n",
    "plt.show()"
   ]
  },
  {
   "cell_type": "markdown",
   "id": "2fab80b2-f753-4e3c-9656-24229d5dabaf",
   "metadata": {},
   "source": [
    "Similarly, the validation WER continues to decrease with the number of steps and it has not plateaued. We will choose the model at the last checkpoint as the best model."
   ]
  },
  {
   "cell_type": "markdown",
   "id": "de579311-b9f5-49ff-9dae-ea4beceb08e0",
   "metadata": {},
   "source": [
    "Next, let's save the model as `wav2vec2-large-960h-cv` according to the requirements."
   ]
  },
  {
   "cell_type": "code",
   "execution_count": 31,
   "id": "d5cb6279-507b-42af-b23b-ad170c856c04",
   "metadata": {},
   "outputs": [],
   "source": [
    "final_model_path = 'wav2vec2-large-960h-cv'\n",
    "\n",
    "model.save_pretrained(final_model_path)"
   ]
  },
  {
   "cell_type": "markdown",
   "id": "51d80d57-1689-4c85-9451-39ae31a498d8",
   "metadata": {},
   "source": [
    "## Evaluate on cv-valid-test"
   ]
  },
  {
   "cell_type": "code",
   "execution_count": 41,
   "id": "f28f354a-f809-424f-bf15-af2ea45692d1",
   "metadata": {},
   "outputs": [],
   "source": [
    "import pandas as pd\n",
    "from tqdm.notebook import tqdm"
   ]
  },
  {
   "cell_type": "code",
   "execution_count": null,
   "id": "dceb0174-b564-4dd7-9454-2a041a922d15",
   "metadata": {},
   "outputs": [
    {
     "data": {
      "application/vnd.jupyter.widget-view+json": {
       "model_id": "77aa0c6de26746dfb6ac8891ca94bce2",
       "version_major": 2,
       "version_minor": 0
      },
      "text/plain": [
       "  0%|          | 0/3995 [00:00<?, ?it/s]"
      ]
     },
     "metadata": {},
     "output_type": "display_data"
    },
    {
     "name": "stderr",
     "output_type": "stream",
     "text": [
      "/usr/local/lib/python3.12/dist-packages/torchaudio/_backend/utils.py:213: UserWarning: In 2.9, this function's implementation will be changed to use torchaudio.load_with_torchcodec` under the hood. Some parameters like ``normalize``, ``format``, ``buffer_size``, and ``backend`` will be ignored. We recommend that you port your code to rely directly on TorchCodec's decoder instead: https://docs.pytorch.org/torchcodec/stable/generated/torchcodec.decoders.AudioDecoder.html#torchcodec.decoders.AudioDecoder.\n",
      "  warnings.warn(\n",
      "/usr/local/lib/python3.12/dist-packages/torchaudio/_backend/ffmpeg.py:88: UserWarning: torio.io._streaming_media_decoder.StreamingMediaDecoder has been deprecated. This deprecation is part of a large refactoring effort to transition TorchAudio into a maintenance phase. The decoding and encoding capabilities of PyTorch for both audio and video are being consolidated into TorchCodec. Please see https://github.com/pytorch/audio/issues/3902 for more information. It will be removed from the 2.9 release. \n",
      "  s = torchaudio.io.StreamReader(src, format, None, buffer_size)\n"
     ]
    }
   ],
   "source": [
    "df_valid_test = pd.read_csv(os.path.join(DATASET_PATH, 'cv-valid-test.csv'))\n",
    "\n",
    "predictions = []\n",
    "\n",
    "device = torch.device(\"cuda\" if torch.cuda.is_available() else \"cpu\")\n",
    "\n",
    "model.to(device)\n",
    "\n",
    "for filename in tqdm(df_valid_test['filename']):\n",
    "    filepath = os.path.join(DATASET_PATH, 'cv-valid-test', filename)\n",
    "    waveform, sample_rate = torchaudio.load(filepath)\n",
    "\n",
    "    if sample_rate != 16000:\n",
    "        resampler = torchaudio.transforms.Resample(orig_freq=sample_rate, new_freq=16000)\n",
    "        waveform = resampler(waveform)\n",
    "        sample_rate = 16000\n",
    "\n",
    "    # Convert to 1D mono waveform from stereo if necessary\n",
    "    # torchaudio returns shape [channels, time]\n",
    "    if waveform.shape[0] > 1:\n",
    "        waveform = torch.mean(waveform, dim=0)  # convert to mono\n",
    "    else:\n",
    "        waveform = waveform.squeeze(0)\n",
    "\n",
    "    # Extract features\n",
    "    inputs = processor(waveform, sampling_rate=16000, return_tensors=\"pt\", padding=True)\n",
    "\n",
    "    # Move inputs to GPU\n",
    "    inputs = {k: v.to(device) for k, v in inputs.items()}\n",
    "\n",
    "    with torch.no_grad():\n",
    "        logits = model(**inputs).logits\n",
    "\n",
    "    # Decode prediction to text\n",
    "    predicted_ids = torch.argmax(logits, dim=-1)\n",
    "    transcription = processor.batch_decode(predicted_ids)[0]\n",
    "    transcription = ''.join(transcription)\n",
    "\n",
    "    predictions.append(transcription)"
   ]
  },
  {
   "cell_type": "code",
   "execution_count": 43,
   "id": "f79acbd8-49f9-4a34-bbfe-9b357d637d9b",
   "metadata": {
    "scrolled": true
   },
   "outputs": [
    {
     "data": {
      "text/plain": [
       "['WITHOUT A DATISET THE ARTICLE AS USELESS',\n",
       " \"I'VE GOT TO GO TO HIM\",\n",
       " 'AND YOU KNOW IT',\n",
       " 'DOWN BELOW IN THE DARKNESS WERE HUNDREDS OF PEOPLE SLEEPING IN PEACE',\n",
       " 'HOLD YOUR NOSE TO KEEP THE SMELL FROM DISABLING YOUR MOTOR FUNCTIONS']"
      ]
     },
     "execution_count": 43,
     "metadata": {},
     "output_type": "execute_result"
    }
   ],
   "source": [
    "predictions[:5]"
   ]
  },
  {
   "cell_type": "code",
   "execution_count": 64,
   "id": "5c9392e3-d270-46d1-ae2d-bf36980f188c",
   "metadata": {},
   "outputs": [
    {
     "name": "stdout",
     "output_type": "stream",
     "text": [
      "WER on cv-valid-test: 0.0649100087216217\n"
     ]
    }
   ],
   "source": [
    "wer_metric = load(\"wer\")\n",
    "\n",
    "actual_transcriptions = list(df_valid_test['text'].values)\n",
    "\n",
    "wer_score = wer_metric.compute(\n",
    "    predictions=[p.lower() for p in predictions], \n",
    "    references=actual_transcriptions)\n",
    "\n",
    "print(f\"WER on cv-valid-test: {wer_score}\")"
   ]
  },
  {
   "cell_type": "markdown",
   "id": "4bce0a35-95ed-4839-9c68-fce9884c988a",
   "metadata": {},
   "source": [
    "As we can see above, the WER score on the cv-valid-test is 0.0649 - not perfect, but a satisfactory result given the limited training steps."
   ]
  },
  {
   "cell_type": "code",
   "execution_count": null,
   "id": "69366268-4fd1-4ba6-9f0e-cc0eee36a9cc",
   "metadata": {},
   "outputs": [],
   "source": []
  }
 ],
 "metadata": {
  "kernelspec": {
   "display_name": "htx",
   "language": "python",
   "name": "python3"
  },
  "language_info": {
   "codemirror_mode": {
    "name": "ipython",
    "version": 3
   },
   "file_extension": ".py",
   "mimetype": "text/x-python",
   "name": "python",
   "nbconvert_exporter": "python",
   "pygments_lexer": "ipython3",
   "version": "3.10.19"
  }
 },
 "nbformat": 4,
 "nbformat_minor": 5
}
