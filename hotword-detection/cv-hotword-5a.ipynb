{
 "cells": [
  {
   "cell_type": "code",
   "execution_count": 1,
   "id": "82f01952",
   "metadata": {},
   "outputs": [],
   "source": [
    "import os\n",
    "import torch\n",
    "import torchaudio\n",
    "import pandas as pd\n",
    "from evaluate import load\n",
    "from tqdm.notebook import tqdm\n",
    "from transformers import Wav2Vec2Processor, Wav2Vec2ForCTC, Wav2Vec2CTCTokenizer, Wav2Vec2FeatureExtractor"
   ]
  },
  {
   "cell_type": "code",
   "execution_count": 2,
   "id": "e6115b29",
   "metadata": {},
   "outputs": [],
   "source": [
    "DATASET_PATH = \"../data/common_voice\"\n",
    "\n",
    "HOTWORDS = [\"be careful\", \"destroy\", \"stranger\"]"
   ]
  },
  {
   "cell_type": "code",
   "execution_count": 3,
   "id": "00b167ee",
   "metadata": {},
   "outputs": [],
   "source": [
    "# load the finetuned model from task 3\n",
    "model = Wav2Vec2ForCTC.from_pretrained('../asr-train/wav2vec2-large-960h-cv')\n",
    "processor = Wav2Vec2Processor.from_pretrained('facebook/wav2vec2-large-960h')"
   ]
  },
  {
   "cell_type": "code",
   "execution_count": 4,
   "id": "2df68726",
   "metadata": {},
   "outputs": [
    {
     "data": {
      "application/vnd.jupyter.widget-view+json": {
       "model_id": "6ee51ad1a3f44761a4a33fcf88a5da1d",
       "version_major": 2,
       "version_minor": 0
      },
      "text/plain": [
       "  0%|          | 0/4076 [00:00<?, ?it/s]"
      ]
     },
     "metadata": {},
     "output_type": "display_data"
    },
    {
     "name": "stdout",
     "output_type": "stream",
     "text": [
      "Found hotword: stranger | be careful with your prognostications said the stranger | cv-valid-dev/sample-000000.mp3\n",
      "Found hotword: stranger | the stranger seemed satisfied with the answer | cv-valid-dev/sample-000089.mp3\n",
      "Found hotword: stranger | i had to test your courage the stranger said | cv-valid-dev/sample-000508.mp3\n",
      "Found hotword: stranger | i had to test your courage the stranger said | cv-valid-dev/sample-000674.mp3\n",
      "Found hotword: stranger | be careful with your prognostications said the stranger | cv-valid-dev/sample-001093.mp3\n",
      "Found hotword: stranger | the stranger was speaking of things that very few people knew about | cv-valid-dev/sample-001101.mp3\n",
      "Found hotword: stranger | the stranger was speaking of things that very few people knew about | cv-valid-dev/sample-001243.mp3\n",
      "Found hotword: stranger | i had to test your courage the stranger said | cv-valid-dev/sample-001501.mp3\n",
      "Found hotword: stranger | the stranger seemed satisfied with the answer | cv-valid-dev/sample-001933.mp3\n",
      "Found hotword: stranger | the stranger was speaking of the things that very few people knew about | cv-valid-dev/sample-002405.mp3\n",
      "Found hotword: stranger | the stranger withdrew the sword from the boy's forehead and the boy felt immensely relieved | cv-valid-dev/sample-003065.mp3\n",
      "Found hotword: stranger | i had to test your courage the stranger said | cv-valid-dev/sample-003219.mp3\n",
      "Found hotword: stranger | i had to test your courage the stranger said | cv-valid-dev/sample-003808.mp3\n"
     ]
    }
   ],
   "source": [
    "df = pd.read_csv(\"../data/common_voice/cv-valid-dev.csv\")\n",
    "\n",
    "device = torch.device(\"cuda\" if torch.cuda.is_available() else \"cpu\")\n",
    "model.to(device)\n",
    "\n",
    "hotword_filenames = []\n",
    "\n",
    "for filename in tqdm(df['filename']):\n",
    "    filepath = os.path.join(DATASET_PATH, 'cv-valid-dev', filename)\n",
    "    waveform, sample_rate = torchaudio.load(filepath)\n",
    "\n",
    "    if sample_rate != 16000:\n",
    "        resampler = torchaudio.transforms.Resample(orig_freq=sample_rate, new_freq=16000)\n",
    "        waveform = resampler(waveform)\n",
    "        sample_rate = 16000\n",
    "\n",
    "    # Convert to 1D mono waveform from stereo if necessary\n",
    "    # torchaudio returns shape [channels, time]\n",
    "    if waveform.shape[0] > 1:\n",
    "        waveform = torch.mean(waveform, dim=0)  # convert to mono\n",
    "    else:\n",
    "        waveform = waveform.squeeze(0)\n",
    "\n",
    "    # Extract features\n",
    "    inputs = processor(waveform, sampling_rate=16000, return_tensors=\"pt\", padding=True)\n",
    "\n",
    "    # Move inputs to GPU\n",
    "    inputs = {k: v.to(device) for k, v in inputs.items()}\n",
    "\n",
    "    with torch.no_grad():\n",
    "        logits = model(**inputs).logits\n",
    "\n",
    "    # Decode prediction to text\n",
    "    predicted_ids = torch.argmax(logits, dim=-1)\n",
    "    transcription = processor.batch_decode(predicted_ids)[0]\n",
    "    transcription = ''.join(transcription).lower()\n",
    "\n",
    "    for hotword in HOTWORDS:\n",
    "        if hotword in transcription.split(): # we assume that we want an exact match of the word\n",
    "            print(f\"Found hotword: {hotword} | {transcription} | {filename}\")\n",
    "            hotword_filenames.append(filename)    "
   ]
  },
  {
   "cell_type": "code",
   "execution_count": 5,
   "id": "dae5b2f1",
   "metadata": {},
   "outputs": [],
   "source": [
    "with open('detected.txt', 'w') as f:\n",
    "    for item in hotword_filenames:\n",
    "        f.write(f\"{item}\\n\")"
   ]
  }
 ],
 "metadata": {
  "kernelspec": {
   "display_name": "htx",
   "language": "python",
   "name": "python3"
  },
  "language_info": {
   "codemirror_mode": {
    "name": "ipython",
    "version": 3
   },
   "file_extension": ".py",
   "mimetype": "text/x-python",
   "name": "python",
   "nbconvert_exporter": "python",
   "pygments_lexer": "ipython3",
   "version": "3.10.19"
  }
 },
 "nbformat": 4,
 "nbformat_minor": 5
}
